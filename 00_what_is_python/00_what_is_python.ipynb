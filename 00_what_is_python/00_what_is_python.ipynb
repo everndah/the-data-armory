{
 "cells": [
  {
   "attachments": {},
   "cell_type": "markdown",
   "id": "41ba58cc",
   "metadata": {},
   "source": [
    "# 00. What is python?\n",
    "\n",
    "- Python is an interpreted, high-level, general-purpose programming language. Created by Guido van Rossum and first released in 1991, Python's design philosophy emphasizes code readability with its notable use of significant whitespace.\n",
    "\n",
    "- According [Al Sweigart](https://www.amazon.com/Automate-Boring-Stuff-Python-Programming/dp/1593275994), Python is a language with syntax rules for writing what is deemed as valid Python code.\n",
    "\n",
    "- The Python interpreter goes ahead to read the source code which has been written in Python language and goes on to perform its instructions.\n",
    "\n",
    "  > It is interesting to note that there are over 250 programming languages in the world. Given this fact, one may ask why python isa good choice compared to the other languages? We shall see this is a moment.\n",
    "\n",
    "**Fun Fact:** The name \"Python\" does not come from the snake, but from a British comedy group called Monty Python.\n",
    "\n",
    "## Why python?\n",
    "\n",
    "- Python is a language that is easy to pick up, understand and remember. That is especially true for beginners (first time programmers).The simplicity does not in any way limit the functional possibilities of the language.\n",
    "\n",
    "- It is also efficient because it enables programs to accomplish more with a few lines of code compared to other languages.\n",
    "\n",
    "- It is also essential in that one writes codes that is easy to read and also easy to debug.It's readability means that it is easily reusable and maintainable.\n",
    "\n",
    "  > Debugging means identifying and removing errors in a code.\n",
    "\n",
    "- Python has become very popular and that means that it has a very large community.\n",
    "\n",
    "- Despite most of the reasons for its use, the quality and productivity of the code sets it apart\n",
    "\n",
    "## Reference and Further Reading\n",
    "\n",
    "* https://towardsdatascience.com/top-10-resources-to-become-a-data-scientist-in-2020-99a315194701\n",
    "\n",
    "* Automate The Boring Stuff By A L S W E I G A R T\n",
    "\n",
    "* Python Crash Course By Eric Matthes\n",
    "\n",
    "* https://docs.python.org/3/tutorial/\n",
    "\n",
    "* https://docs.python.org/3/faq/general.html#what-is-python\n",
    "\n",
    "* Learning Python By  Mark Lutz\n"
   ]
  }
 ],
 "metadata": {
  "kernelspec": {
   "display_name": "Python 3 (ipykernel)",
   "language": "python",
   "name": "python3"
  },
  "language_info": {
   "codemirror_mode": {
    "name": "ipython",
    "version": 3
   },
   "file_extension": ".py",
   "mimetype": "text/x-python",
   "name": "python",
   "nbconvert_exporter": "python",
   "pygments_lexer": "ipython3",
   "version": "3.10.9"
  }
 },
 "nbformat": 4,
 "nbformat_minor": 5
}
