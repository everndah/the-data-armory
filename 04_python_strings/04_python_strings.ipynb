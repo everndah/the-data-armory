{
 "cells": [
  {
   "attachments": {},
   "cell_type": "markdown",
   "metadata": {},
   "source": [
    "## Python Strings Learning Outcome"
   ]
  },
  {
   "attachments": {},
   "cell_type": "markdown",
   "metadata": {},
   "source": [
    "\n",
    "- Creating Strings: In Python, you have the option to create strings by enclosing text with either single quotes ('') or double quotes (\"\").\n",
    "\n",
    "- Accessing Characters: Indexing or slicing allows you to obtain specific characters within a string.\n",
    "\n",
    "- String Concatenation: You have the option of combining strings either by utilizing the + operator or through the implementation of the += operator.\n",
    "\n",
    "- String Methods: Python offers an extensive array of pre-installed string methods that can be utilized to handle strings, such as upper(), lower(), strip(), replace(), and numerous others.\n",
    "\n",
    "- String Formatting: Python offers several approaches for string formatting, such as utilizing the format() technique and f-strings.\n",
    "\n",
    "- Escape Sequences: Special characters known as escape sequences enable the representation of characters in a string that would otherwise be challenging to express, such as quotes, newlines, and tabs.\n",
    "\n",
    "- String Operations: Python offers a variety of operators that can be utilized to conduct actions on strings, including but not limited to comparison operators, membership operators, and logical operators.\n",
    "\n",
    "- Use escape characters for special characters such as quotation marks.\n",
    "\n",
    "- Create powerful and efficient programs using strings.\n",
    "\n",
    "- Format text, create patterns, and even encrypt data with strings.\n"
   ]
  },
  {
   "cell_type": "markdown",
   "metadata": {},
   "source": [
    "## Advantages of Python Strings"
   ]
  },
  {
   "attachments": {},
   "cell_type": "markdown",
   "metadata": {},
   "source": [
    "- \"Strings\" are utilized extensively across various domains, serving purposes like preserving and modifying textual information, indicating identities, locations, and other types of data that can be conveyed as text.\n",
    "\n",
    "- Python offers an extensive range of string methods that facilitate the manipulation and handling of strings in diverse ways. These methods simplify the execution of routine tasks, such as changing strings to uppercase or lowercase, substituting substrings, and segmenting strings into lists.\n",
    "\n",
    "- Strings are immutable meaning they cannot be altered once they are created, providing reassurance that the value of a string will not change unexpectedly. This characteristic can prove advantageous in specific scenarios since it ensures that the string's value remains constant and predictable.\n",
    "\n",
    "- Python includes built in support for strings, eliminating the need to import external libraries or modules to manipulate them. This simplifies working with strings and streamlines your code's complexity, making it simpler to begin working with strings.\n",
    "\n",
    "- Python offers a succinct syntax for generating and manipulating strings, rendering it effortless to compose and comprehend code that handles strings."
   ]
  },
  {
   "attachments": {},
   "cell_type": "markdown",
   "metadata": {},
   "source": [
    "## Disadvantages of Python Strings"
   ]
  },
  {
   "attachments": {},
   "cell_type": "markdown",
   "metadata": {},
   "source": [
    "- When working with substantial amounts of text data, strings may not be the most efficient option. If, for example, you need to execute numerous string operations, like substituting substrings or dividing the string into several substrings, it can be sluggish and require significant resources.\n",
    "\n",
    "- Representing complex data structures like lists or dictionaries using strings can pose a challenge. In such situations, it would be more effective to use an alternative data type, like a list or a dictionary, to accurately capture the data."
   ]
  },
  {
   "attachments": {},
   "cell_type": "markdown",
   "metadata": {},
   "source": [
    "## Application of Python Strings"
   ]
  },
  {
   "attachments": {},
   "cell_type": "markdown",
   "metadata": {},
   "source": [
    "\n",
    "- Web development: Python is a popular language for web development, and developers use Python strings to dynamically create HTML, CSS, and JavaScript code.\n",
    "\n",
    "- Data analysis: In data analysis, strings are frequently used to store text-based data like customer feedback, social media posts, or product descriptions. Python strings are useful for data cleaning, normalization, and processing to extract insights.\n",
    "\n",
    "- Natural Language Processing (NLP): NLP is a subfield of AI that involves processing and analyzing human language. Python strings are crucial in NLP, where they are used to store and manipulate text data, including text classification, sentiment analysis, and named entity recognition.\n",
    "\n",
    "- Automation: Python strings are widely used in automation tasks to process and manipulate file paths, automate email sending, and generate reports.\n",
    "\n",
    "- Scientific computing: In scientific computing, strings are used to store and process data related to scientific research. For instance, scientists may use Python strings to store DNA sequences, chemical structures, or astronomical data."
   ]
  },
  {
   "attachments": {},
   "cell_type": "markdown",
   "metadata": {},
   "source": [
    "## What is a String?"
   ]
  },
  {
   "attachments": {},
   "cell_type": "markdown",
   "metadata": {},
   "source": [
    "- In Python A string is a sequence of characters. No more, no less.\n",
    "- In Python, anything inside quotation marks is referred to as a \"string\".\n",
    "- You can use either single or double quotes.\n",
    "- Using double quotes has the advantage of allowing a single quote character to be included in the string.\n",
    "- Strings may also be created from other objects using the str constructor."
   ]
  },
  {
   "attachments": {},
   "cell_type": "markdown",
   "metadata": {},
   "source": [
    "**#Double Quotes**"
   ]
  },
  {
   "cell_type": "code",
   "execution_count": 1,
   "metadata": {},
   "outputs": [
    {
     "data": {
      "text/plain": [
       "str"
      ]
     },
     "execution_count": 1,
     "metadata": {},
     "output_type": "execute_result"
    }
   ],
   "source": [
    "#Code Example\n",
    "\n",
    "middle_name = 'Mary'\n",
    "type(middle_name)"
   ]
  },
  {
   "cell_type": "code",
   "execution_count": 13,
   "metadata": {},
   "outputs": [
    {
     "data": {
      "text/plain": [
       "' Oaks'"
      ]
     },
     "execution_count": 13,
     "metadata": {},
     "output_type": "execute_result"
    }
   ],
   "source": [
    "#Code Example\n",
    "\n",
    "last_name = \" Oaks\"\n",
    "\n",
    "last_name"
   ]
  },
  {
   "cell_type": "code",
   "execution_count": 9,
   "metadata": {},
   "outputs": [
    {
     "data": {
      "text/plain": [
       "str"
      ]
     },
     "execution_count": 9,
     "metadata": {},
     "output_type": "execute_result"
    }
   ],
   "source": [
    "type(last_name)"
   ]
  },
  {
   "attachments": {},
   "cell_type": "markdown",
   "metadata": {},
   "source": [
    "### #String  Operators\n",
    "\n"
   ]
  },
  {
   "attachments": {},
   "cell_type": "markdown",
   "metadata": {},
   "source": [
    "#### The `+` operator"
   ]
  },
  {
   "cell_type": "markdown",
   "metadata": {},
   "source": [
    "\n",
    "- The `+` operator combines two strings into one(Concatenates)"
   ]
  },
  {
   "cell_type": "code",
   "execution_count": 11,
   "metadata": {},
   "outputs": [
    {
     "data": {
      "text/plain": [
       "'Mary Oaks'"
      ]
     },
     "execution_count": 11,
     "metadata": {},
     "output_type": "execute_result"
    }
   ],
   "source": [
    "#Code Example\n",
    "\n",
    "\n"
   ]
  },
  {
   "cell_type": "code",
   "execution_count": 14,
   "metadata": {},
   "outputs": [
    {
     "data": {
      "text/plain": [
       "'Mary Oaks'"
      ]
     },
     "execution_count": 14,
     "metadata": {},
     "output_type": "execute_result"
    }
   ],
   "source": []
  },
  {
   "attachments": {},
   "cell_type": "markdown",
   "metadata": {},
   "source": [
    "* If several string literals are placed together, they will be combined into a single string."
   ]
  },
  {
   "cell_type": "code",
   "execution_count": 19,
   "metadata": {},
   "outputs": [
    {
     "data": {
      "text/plain": [
       "'The Data Armory Academy'"
      ]
     },
     "execution_count": 19,
     "metadata": {},
     "output_type": "execute_result"
    }
   ],
   "source": [
    "#Code Example\n",
    "\n",
    "school_name = 'The' ' Data' ' Armory' ' Academy'\n",
    "school_name"
   ]
  },
  {
   "attachments": {},
   "cell_type": "markdown",
   "metadata": {},
   "source": [
    "* This feature is especially helpful when needing to divide long strings.\n"
   ]
  },
  {
   "attachments": {},
   "cell_type": "markdown",
   "metadata": {},
   "source": [
    "* NB: Put  strings within parentheses."
   ]
  },
  {
   "cell_type": "code",
   "execution_count": 21,
   "metadata": {},
   "outputs": [
    {
     "name": "stdout",
     "output_type": "stream",
     "text": [
      "KenyaUgandaTanzania\n"
     ]
    }
   ],
   "source": [
    "#Code Example\n",
    "\n",
    "country_names =('Kenya' 'Uganda' 'Tanzania')\n",
    "\n",
    "print(country_names)"
   ]
  },
  {
   "attachments": {},
   "cell_type": "markdown",
   "metadata": {},
   "source": [
    "* It is not possible to concatenate a variable and a string literal."
   ]
  },
  {
   "cell_type": "code",
   "execution_count": 1,
   "metadata": {},
   "outputs": [],
   "source": [
    "#Code Example\n",
    "\n",
    "\n"
   ]
  },
  {
   "attachments": {},
   "cell_type": "markdown",
   "metadata": {},
   "source": [
    "* Use the + operator to concatenate variables or a variable and a literal."
   ]
  },
  {
   "cell_type": "code",
   "execution_count": 28,
   "metadata": {},
   "outputs": [
    {
     "data": {
      "text/plain": [
       "'Kelly Rowland'"
      ]
     },
     "execution_count": 28,
     "metadata": {},
     "output_type": "execute_result"
    }
   ],
   "source": [
    "#Code Example\n",
    "\n",
    "first_name = 'Kelly'\n",
    "middle_name = 'Rowland'\n",
    "\n",
    "students_name = first_name + ' ' + middle_name\n",
    "students_name"
   ]
  },
  {
   "cell_type": "code",
   "execution_count": 29,
   "metadata": {},
   "outputs": [
    {
     "ename": "SyntaxError",
     "evalue": "invalid syntax (Temp/ipykernel_3272/3084417407.py, line 1)",
     "output_type": "error",
     "traceback": [
      "\u001b[1;36m  File \u001b[1;32m\"C:\\Users\\USER\\AppData\\Local\\Temp/ipykernel_3272/3084417407.py\"\u001b[1;36m, line \u001b[1;32m1\u001b[0m\n\u001b[1;33m    students_name = first_name  middle_name\u001b[0m\n\u001b[1;37m                                ^\u001b[0m\n\u001b[1;31mSyntaxError\u001b[0m\u001b[1;31m:\u001b[0m invalid syntax\n"
     ]
    }
   ],
   "source": [
    "students_name = first_name  middle_name"
   ]
  },
  {
   "cell_type": "code",
   "execution_count": 33,
   "metadata": {},
   "outputs": [
    {
     "data": {
      "text/plain": [
       "'Kelly Bill'"
      ]
     },
     "execution_count": 33,
     "metadata": {},
     "output_type": "execute_result"
    }
   ],
   "source": [
    "new_student = first_name + ' ' +  'Bill'\n",
    "new_student"
   ]
  },
  {
   "attachments": {},
   "cell_type": "markdown",
   "metadata": {},
   "source": [
    "### The `*`operator"
   ]
  },
  {
   "attachments": {},
   "cell_type": "markdown",
   "metadata": {},
   "source": [
    "\n",
    "\n",
    "* In Python, **the `*`operator** can be used to create multiple copies of a string. Here are some examples:"
   ]
  },
  {
   "cell_type": "code",
   "execution_count": null,
   "metadata": {},
   "outputs": [],
   "source": [
    "#Code Example"
   ]
  },
  {
   "attachments": {},
   "cell_type": "markdown",
   "metadata": {},
   "source": [
    "## String indexing"
   ]
  },
  {
   "attachments": {},
   "cell_type": "markdown",
   "metadata": {},
   "source": [
    "\n",
    "\n",
    "* The bracket `[]` operator allows us to access individual characters in a string.\n",
    "    > It takes an index as an argument and returns the character at that position in the string. \n",
    "    \n",
    "    > For example,lets get the first letter of the string `name`.\n"
   ]
  },
  {
   "cell_type": "code",
   "execution_count": null,
   "metadata": {},
   "outputs": [],
   "source": [
    "#Code Example"
   ]
  },
  {
   "attachments": {},
   "cell_type": "markdown",
   "metadata": {},
   "source": [
    "* Python strings are indexed from left to right, with the first character at index 0, the second at index 1, and so on.\n"
   ]
  },
  {
   "attachments": {},
   "cell_type": "markdown",
   "metadata": {},
   "source": [
    "* You can access a specific character in a string using indexing, such as `my_string[0]` to get the first character."
   ]
  },
  {
   "cell_type": "code",
   "execution_count": null,
   "metadata": {},
   "outputs": [],
   "source": [
    "#Code Example\n",
    "\n"
   ]
  },
  {
   "attachments": {},
   "cell_type": "markdown",
   "metadata": {},
   "source": [
    "* We can also use negative indices to access characters from the end of the string."
   ]
  },
  {
   "cell_type": "code",
   "execution_count": null,
   "metadata": {},
   "outputs": [],
   "source": [
    "#Code Example\n",
    "\n",
    " "
   ]
  },
  {
   "attachments": {},
   "cell_type": "markdown",
   "metadata": {},
   "source": [
    "* `string[:i] + string [i:]` will be equal to string "
   ]
  },
  {
   "cell_type": "code",
   "execution_count": null,
   "metadata": {},
   "outputs": [],
   "source": []
  },
  {
   "attachments": {},
   "cell_type": "markdown",
   "metadata": {},
   "source": [
    "* Negative indices begin with -1, and `-0` is equivalent to `0`."
   ]
  },
  {
   "cell_type": "code",
   "execution_count": null,
   "metadata": {},
   "outputs": [],
   "source": [
    "#Code Example\n"
   ]
  },
  {
   "cell_type": "code",
   "execution_count": null,
   "metadata": {},
   "outputs": [],
   "source": [
    "#Code Example"
   ]
  },
  {
   "attachments": {},
   "cell_type": "markdown",
   "metadata": {},
   "source": [
    "## Escape Characters"
   ]
  },
  {
   "attachments": {},
   "cell_type": "markdown",
   "metadata": {},
   "source": [
    "\n",
    "\n",
    "- To use both single and double quotes in a string, you must use escape characters.\n",
    "- An escape character enables you to use characters that would otherwise be impossible to include in a string.\n",
    "- An escape character is a backslash \\ followed by the desired character to be included in the string. This allows for special characters, such as quotation marks, to be used without disrupting the string.\n",
    "\n"
   ]
  },
  {
   "cell_type": "code",
   "execution_count": null,
   "metadata": {},
   "outputs": [],
   "source": [
    "''' \\' To add a Single quote\n",
    "car = 'This is Mr. Ken\\'s car'\n",
    "\n",
    "\\\" To add Double quote\n",
    "her_husband = \"He is a \\\"good\\\" man\"\n",
    "\n",
    "\\t To add Tab\n",
    "welcome_message = 'How did you know\\tAbout the data Armory\\tMake sure you share and subscribe'\n",
    "\n",
    "\\n To add a Newline (line break)\n",
    "welcome_message = 'How did you know\\nAbout the data Armory\\nMake sure you share and subscribe'\n",
    "\n",
    "\\\\ To use Backslash\n",
    "back_slash = ' An escape character is a backslash \\\\' '''"
   ]
  },
  {
   "cell_type": "code",
   "execution_count": null,
   "metadata": {},
   "outputs": [],
   "source": [
    "#Code Example"
   ]
  },
  {
   "attachments": {},
   "cell_type": "markdown",
   "metadata": {},
   "source": [
    "* Without the use of print(), a new line character (\\n) will be included in the output."
   ]
  },
  {
   "cell_type": "code",
   "execution_count": null,
   "metadata": {},
   "outputs": [],
   "source": [
    "#Code Example\n",
    "\n",
    "\n"
   ]
  },
  {
   "attachments": {},
   "cell_type": "markdown",
   "metadata": {},
   "source": [
    "* A backslash can be placed at the end of a line to ignore the newline character.\n",
    "* A backslash \\ indicates that the current line should be continued on the next line. \n",
    "* It is used to break up a long line of code into smaller sections for readability."
   ]
  },
  {
   "cell_type": "code",
   "execution_count": null,
   "metadata": {},
   "outputs": [],
   "source": [
    "#Code example\n",
    "\n"
   ]
  },
  {
   "attachments": {},
   "cell_type": "markdown",
   "metadata": {},
   "source": [
    "## Raw Strings"
   ]
  },
  {
   "attachments": {},
   "cell_type": "markdown",
   "metadata": {},
   "source": [
    "\n",
    "\n",
    "- A raw string ignores all escape characters and prints any backslash it contains. No special treatment is given to the backslash."
   ]
  },
  {
   "cell_type": "code",
   "execution_count": null,
   "metadata": {},
   "outputs": [],
   "source": [
    "#Code Example"
   ]
  },
  {
   "attachments": {},
   "cell_type": "markdown",
   "metadata": {},
   "source": [
    "* There is an important consideration when using raw strings, which is that it cannot end with an uneven number of \\ characters."
   ]
  },
  {
   "cell_type": "code",
   "execution_count": null,
   "metadata": {},
   "outputs": [],
   "source": [
    "#Code Example\n",
    "\n",
    "\n"
   ]
  },
  {
   "attachments": {},
   "cell_type": "markdown",
   "metadata": {},
   "source": [
    "* How to end a raw string with an odd number of backslashes."
   ]
  },
  {
   "cell_type": "code",
   "execution_count": null,
   "metadata": {},
   "outputs": [],
   "source": [
    "#Use regular strings and double the backslashes:\n"
   ]
  },
  {
   "cell_type": "code",
   "execution_count": null,
   "metadata": {},
   "outputs": [],
   "source": []
  },
  {
   "attachments": {},
   "cell_type": "markdown",
   "metadata": {},
   "source": [
    "**#len function**\n",
    "\n",
    "- The len() function can be used to determine the number of characters in a string. In this case, using the len() function on the string `name` would return the value `12`."
   ]
  },
  {
   "cell_type": "code",
   "execution_count": null,
   "metadata": {},
   "outputs": [],
   "source": [
    "#Code Example"
   ]
  },
  {
   "attachments": {},
   "cell_type": "markdown",
   "metadata": {},
   "source": [
    "**#Stripping Whitespace**\n",
    "\n",
    "- The `rstrip()` method can be used to remove any extra whitespace from the right end of a string. For example:"
   ]
  },
  {
   "cell_type": "code",
   "execution_count": null,
   "metadata": {},
   "outputs": [],
   "source": [
    "#Code Example\n"
   ]
  },
  {
   "cell_type": "markdown",
   "metadata": {},
   "source": [
    "## Multiline String"
   ]
  },
  {
   "attachments": {},
   "cell_type": "markdown",
   "metadata": {},
   "source": [
    "\n",
    "\n",
    "- String literals can span multiple lines and are delimited by either three single quotes or three double quotes. For example, to create a multiline string in Python we can write:"
   ]
  },
  {
   "cell_type": "code",
   "execution_count": null,
   "metadata": {},
   "outputs": [],
   "source": [
    "#Code Example"
   ]
  },
  {
   "attachments": {},
   "cell_type": "markdown",
   "metadata": {},
   "source": [
    "**#String slices**\n",
    "\n",
    "* Python allows for string slicing, which means accessing a specific portion of a string. \n",
    "\n",
    "* Like lists, strings in Python can be accessed using indexes and slices. The syntax for slicing a string is the same as slicing a list, with the start and end indices separated by a colon. For example, `string[0]` would return the first character of the string, while `string[0:3]` would return the first three characters. The syntax is as follows:\n",
    "\n",
    "* Because Python (like many programming languages) uses [zero-based indexing](https://en.wikipedia.org/wiki/Zero-based_numbering#:~:text=Zero%2Dbased%20numbering%20is%20a,mathematical%20or%20non%2Dprogramming%20circumstances.)\n",
    "\n"
   ]
  },
  {
   "cell_type": "code",
   "execution_count": null,
   "metadata": {},
   "outputs": [],
   "source": [
    "#Code Example"
   ]
  },
  {
   "cell_type": "code",
   "execution_count": null,
   "metadata": {},
   "outputs": [],
   "source": [
    "#Code Example"
   ]
  },
  {
   "attachments": {},
   "cell_type": "markdown",
   "metadata": {},
   "source": [
    "* In Python you can capture a slice from one string variable and store it in a separate string variable using slicing notation. \n",
    "* For example, to capture the first three characters of the string variable `name` and store it in a separate variable `first_three`, you can use the following code:"
   ]
  },
  {
   "cell_type": "code",
   "execution_count": null,
   "metadata": {},
   "outputs": [],
   "source": [
    "#Code Example"
   ]
  },
  {
   "attachments": {},
   "cell_type": "markdown",
   "metadata": {},
   "source": [
    "Points to Note:\n",
    "\n",
    "* Negative indexing and slicing: You can also index and slice strings from right to left using negative indices. For example, **`my_string[-1]`** would give you the last character, and **`my_string[-4:-1]`** would give you a substring starting from the fourth character from the end and ending at the second-to-last.\n",
    "* Slice step: You can also specify a step size in the slice, which allows you to skip characters in the string. For example, **`my_string[0:6:2]`** would give you every other character from the first to the fifth character.\n",
    "* Immutable strings: It's important to remember that strings in Python are immutable, which means you cannot modify them directly. However, you can create new strings by concatenating or slicing existing strings.\n"
   ]
  },
  {
   "cell_type": "code",
   "execution_count": null,
   "metadata": {},
   "outputs": [],
   "source": [
    "#Code Example"
   ]
  },
  {
   "attachments": {},
   "cell_type": "markdown",
   "metadata": {},
   "source": [
    "- Using negative numbers can be useful when working with strings of unknown length or when you want to access characters starting from the end of the string."
   ]
  },
  {
   "cell_type": "code",
   "execution_count": null,
   "metadata": {},
   "outputs": [],
   "source": [
    "#Code Example"
   ]
  },
  {
   "attachments": {},
   "cell_type": "markdown",
   "metadata": {},
   "source": [
    "- You can reverse a string using slicing by specifying a step of -1. For example:"
   ]
  },
  {
   "cell_type": "code",
   "execution_count": null,
   "metadata": {},
   "outputs": [],
   "source": [
    "#Code Example"
   ]
  },
  {
   "attachments": {},
   "cell_type": "markdown",
   "metadata": {},
   "source": [
    "* You can also use indexing to combine strings. "
   ]
  },
  {
   "cell_type": "code",
   "execution_count": null,
   "metadata": {},
   "outputs": [],
   "source": [
    "#Code Example"
   ]
  },
  {
   "attachments": {},
   "cell_type": "markdown",
   "metadata": {},
   "source": [
    "**#The in and not in Operators** \n",
    "\n",
    "* The `in` and `not in` operators in Python can be used to check if a substring is present or absent, respectively, in a given string. \n",
    "* The operator returns a boolean value (`True` or `False`) based on whether the substring is found in the string or not. "
   ]
  },
  {
   "cell_type": "code",
   "execution_count": null,
   "metadata": {},
   "outputs": [],
   "source": [
    "#Simple Looping and counting program;"
   ]
  },
  {
   "cell_type": "code",
   "execution_count": 1,
   "metadata": {},
   "outputs": [],
   "source": [
    "# using the in operator\n",
    "\n"
   ]
  },
  {
   "cell_type": "code",
   "execution_count": null,
   "metadata": {},
   "outputs": [],
   "source": [
    "# using the not in operator"
   ]
  },
  {
   "cell_type": "markdown",
   "metadata": {},
   "source": [
    "- These operators can be useful for various string operations, such as searching for a specific substring or checking if a password meets certain requirements.\n",
    "- These membership operators can be used with a wide range of Python objects that support membership testing, such as lists, tuples, sets, dictionaries, and strings."
   ]
  },
  {
   "cell_type": "code",
   "execution_count": null,
   "metadata": {},
   "outputs": [],
   "source": [
    "#Password\n"
   ]
  },
  {
   "attachments": {},
   "cell_type": "markdown",
   "metadata": {},
   "source": [
    "**#String Comparison**\n",
    "\n",
    "* To check if two strings are equal, you can use the `==` operator. For example:"
   ]
  },
  {
   "cell_type": "code",
   "execution_count": null,
   "metadata": {},
   "outputs": [],
   "source": [
    "#Code Example"
   ]
  },
  {
   "attachments": {},
   "cell_type": "markdown",
   "metadata": {},
   "source": [
    "* To check if two strings are not equal, you can use the **`!=`** operator. For example, **`if my_string1 != my_string2:`** will evaluate to **`True`** if **`my_string1`** is not equal to **`my_string2`**."
   ]
  },
  {
   "cell_type": "code",
   "execution_count": null,
   "metadata": {},
   "outputs": [],
   "source": [
    "#Code Example"
   ]
  },
  {
   "attachments": {},
   "cell_type": "markdown",
   "metadata": {},
   "source": [
    "* String comparison: You can also compare two strings to determine which one is greater or lesser than the other, based on their [ASCII values.](https://www.cs.cmu.edu/~pattis/15-1XX/common/handouts/ascii.html) For example, **`if my_string1 < my_string2:`** will evaluate to **`True`** if **`my_string1`** comes before **`my_string2`** in alphabetical order."
   ]
  },
  {
   "cell_type": "code",
   "execution_count": null,
   "metadata": {},
   "outputs": [],
   "source": [
    "#Code Example"
   ]
  },
  {
   "attachments": {},
   "cell_type": "markdown",
   "metadata": {},
   "source": [
    "\n",
    "\n",
    "* Case sensitivity: By default, string comparison in Python is case-sensitive, which means that \"apple\" and \"Apple\" are considered different strings. \n",
    "\n",
    "* If you want to perform a case-insensitive comparison, you can convert the strings to lowercase or uppercase using the **`lower()`** or **`upper()`** method before comparing them.\n",
    "\n",
    "* By mastering these techniques for comparing strings in Python, you can effectively perform conditional checks and string operations in your code."
   ]
  },
  {
   "attachments": {},
   "cell_type": "markdown",
   "metadata": {},
   "source": [
    "### String Methods\n",
    "\n",
    "* Several string methods can be used to analyze strings or create transformed string values. This section describes the methods that you will use most frequently.\n",
    "\n",
    "* Here are some examples of Python string methods:"
   ]
  },
  {
   "cell_type": "code",
   "execution_count": null,
   "metadata": {},
   "outputs": [],
   "source": [
    "#Code Example"
   ]
  },
  {
   "attachments": {},
   "cell_type": "markdown",
   "metadata": {},
   "source": [
    "* For more information on these and other string methods in Python, see [the official Python documentation.](https://docs.python.org/3/library/stdtypes.html#string-methods)"
   ]
  },
  {
   "attachments": {},
   "cell_type": "markdown",
   "metadata": {},
   "source": [
    "**#Strings are immutable**\n",
    "\n",
    "* In Python, strings are immutable. This means that once a string is created, it cannot be modified. \n",
    "* Any operation that appears to modify a string actually creates a new string. Here are some examples:\n"
   ]
  },
  {
   "cell_type": "code",
   "execution_count": null,
   "metadata": {},
   "outputs": [],
   "source": [
    "#Code Example"
   ]
  },
  {
   "attachments": {},
   "cell_type": "markdown",
   "metadata": {},
   "source": [
    "* Some string methods that have names beginning with the word \"is\" include:"
   ]
  },
  {
   "cell_type": "code",
   "execution_count": null,
   "metadata": {},
   "outputs": [],
   "source": [
    "#Code Example"
   ]
  },
  {
   "attachments": {},
   "cell_type": "markdown",
   "metadata": {},
   "source": [
    "**#Strings are immutable**\n",
    "\n",
    "* In Python, strings are immutable. This means that once a string is created, it cannot be modified. Any operation that appears to modify a string actually creates a new string. Here are some examples:"
   ]
  },
  {
   "attachments": {},
   "cell_type": "markdown",
   "metadata": {},
   "source": [
    "**#The `dir()` on strings**\n",
    "\n",
    "* The `dir()` function in Python returns a list of all the available attributes and methods of an object. Here are some code examples using `dir()` on strings:"
   ]
  },
  {
   "cell_type": "code",
   "execution_count": null,
   "metadata": {},
   "outputs": [],
   "source": [
    "#Code Example"
   ]
  },
  {
   "attachments": {},
   "cell_type": "markdown",
   "metadata": {},
   "source": [
    "* The output of dir() on a string object will also include a number of string attributes, such as __class__, __doc__, and __len__(). These attributes can be used to obtain information about the string object, such as its class, documentation, or length."
   ]
  },
  {
   "attachments": {},
   "cell_type": "markdown",
   "metadata": {},
   "source": [
    "* You can use the built-in help() function. Simply pass the attribute or method as an argument to help(), and it will display the documentation and usage information for that attribute or method."
   ]
  },
  {
   "cell_type": "code",
   "execution_count": null,
   "metadata": {},
   "outputs": [],
   "source": [
    "#Code Example"
   ]
  },
  {
   "attachments": {},
   "cell_type": "markdown",
   "metadata": {},
   "source": [
    "### String Formatting "
   ]
  },
  {
   "attachments": {},
   "cell_type": "markdown",
   "metadata": {},
   "source": [
    "**The % operator**(Old Way)\n",
    "\n",
    "* The % operator in Python is used to format strings by replacing placeholders with the values of variables. "
   ]
  },
  {
   "cell_type": "code",
   "execution_count": null,
   "metadata": {},
   "outputs": [],
   "source": [
    "#Code Example\n"
   ]
  },
  {
   "cell_type": "code",
   "execution_count": null,
   "metadata": {},
   "outputs": [],
   "source": [
    "#Code Example"
   ]
  },
  {
   "attachments": {},
   "cell_type": "markdown",
   "metadata": {},
   "source": [
    "## References and Further Reading.\n",
    "\n",
    "[Digital Ocean: How To Perform Sentiment Analysis in Python 3 Using the Natural Language Toolkit (NLTK)](https://www.digitalocean.com/community/tutorials/how-to-perform-sentiment-analysis-in-python-3-using-the-natural-language-toolkit-nltk#step-4-removing-noise-from-the-data)\n",
    "\n",
    "[Real Python: Python String Formatting Best Practices](https://realpython.com/python-string-formatting/#1-old-style-string-formatting-operator)\n",
    "\n",
    "[The official Python documentation](https://docs.python.org/3/library/stdtypes.html#string-methods)\n",
    "\n",
    "[Python Strings](https://www.geeksforgeeks.org/python-string/)\n",
    "\n"
   ]
  }
 ],
 "metadata": {
  "kernelspec": {
   "display_name": "Dbases",
   "language": "python",
   "name": "python3"
  },
  "language_info": {
   "codemirror_mode": {
    "name": "ipython",
    "version": 3
   },
   "file_extension": ".py",
   "mimetype": "text/x-python",
   "name": "python",
   "nbconvert_exporter": "python",
   "pygments_lexer": "ipython3",
   "version": "3.9.7"
  },
  "orig_nbformat": 4,
  "vscode": {
   "interpreter": {
    "hash": "b17775c2dea02fc1f2f42bc92c63d52f2f4aa32e1315bff04d96806d0e68f237"
   }
  }
 },
 "nbformat": 4,
 "nbformat_minor": 2
}
