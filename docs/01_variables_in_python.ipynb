{
 "cells": [
  {
   "attachments": {},
   "cell_type": "markdown",
   "metadata": {},
   "source": [
    "## Variables in Python.\n",
    "\n",
    "- In python, a **variable** is a name that is used to hold/store a **value** or an object.\n",
    "\n",
    "  > A **value** in this case, is the information that is stored/linked to a variable.\n",
    "\n",
    "  > A value can be a string of letters (string) or a number (integer.)\n",
    "\n",
    "- A variable is given a value using the equal sign/ assignment operator.\n",
    "\n",
    "- For an assignment statement\n",
    "\n",
    "- We need a _variable name,assignment operator and the value_.\n",
    "\n",
    "Example: \n",
    "\n",
    "`text = 'Hello World' (i)`\n",
    "\n",
    "`message = 'Welcome to the Data Armory' (ii)`\n",
    "\n",
    "`score = 12 (iii)`\n",
    "\n",
    "NB: \n",
    "- The type of variable will be  the type of value that it  refers to.\n",
    "- Once Stored you can use it anywhere else.\n",
    "\n"
   ]
  },
  {
   "cell_type": "code",
   "execution_count": 1,
   "metadata": {},
   "outputs": [],
   "source": [
    "text = \"Hello World\"\n",
    "message = \"Welcome to the Data Armory\" # = sign is the assignment operator\n",
    "score = 12 #12 is the value\n",
    "\n",
    "# In line 1 `Text` is the variable name\n",
    "# In line 2 `=` sign is the assignment operator\n",
    "# In line 3 `12` is the value"
   ]
  },
  {
   "attachments": {},
   "cell_type": "markdown",
   "metadata": {},
   "source": [
    "NB:\n",
    "\n",
    "- The type of variable will be the type of value that it refers to.\n",
    "- Once Stored you can use it anywhere else.\n",
    "\n",
    "* You can always assign different values to different variables.\n"
   ]
  },
  {
   "cell_type": "code",
   "execution_count": 2,
   "metadata": {},
   "outputs": [],
   "source": [
    "#Code Example\n",
    "a,b,c = 10,'come','again!'"
   ]
  },
  {
   "attachments": {},
   "cell_type": "markdown",
   "metadata": {},
   "source": [
    "- You can also assign one value to different variables."
   ]
  },
  {
   "cell_type": "code",
   "execution_count": 3,
   "metadata": {},
   "outputs": [],
   "source": [
    "#Code Example\n",
    "a,b,c = 10,'come','again!'"
   ]
  },
  {
   "attachments": {},
   "cell_type": "markdown",
   "metadata": {},
   "source": [
    "- You can also assign one value to different variables."
   ]
  },
  {
   "cell_type": "code",
   "execution_count": 4,
   "metadata": {},
   "outputs": [],
   "source": [
    "#Code Example\n",
    "d = e= f = 100"
   ]
  },
  {
   "attachments": {},
   "cell_type": "markdown",
   "metadata": {},
   "source": [
    "## Variable Names Rules and Guidelines\n",
    "\n",
    "- We have to agree that variable names are an essential part of the source code and meaningful names are important when it comes to program comprehension.\n",
    "- They serve as an implied documentation that conveys to the reader;\n",
    "\n",
    "  > The meaning of the code.\n",
    "\n",
    "  > The intention of the writer.\n",
    "\n",
    "- Considering that sometimes names are the only documentation, then clean code approach should be highly regarded.\n",
    "- Therefore, it is important to devote a considerable amount of time to the issue of variable naming and therefore the variable names and rules. [Source](https://arxiv.org/pdf/2103.07487.pdf)\n",
    "\n",
    "- A variable name _CAN_ be one word, though not a Must"
   ]
  },
  {
   "cell_type": "code",
   "execution_count": 5,
   "metadata": {},
   "outputs": [
    {
     "name": "stdout",
     "output_type": "stream",
     "text": [
      "Ken\n"
     ]
    }
   ],
   "source": [
    "#Code Example\n",
    "student  = 'Ken'\n",
    "print(student)"
   ]
  },
  {
   "attachments": {},
   "cell_type": "markdown",
   "metadata": {},
   "source": [
    "- You _SHOULD_ separate words with underscores and not spaces."
   ]
  },
  {
   "cell_type": "code",
   "execution_count": 6,
   "metadata": {},
   "outputs": [
    {
     "name": "stdout",
     "output_type": "stream",
     "text": [
      "Ken\n"
     ]
    }
   ],
   "source": [
    "#Code Example\n",
    "student_name = 'Ken'\n",
    "print(student_name)"
   ]
  },
  {
   "cell_type": "code",
   "execution_count": 7,
   "metadata": {},
   "outputs": [
    {
     "name": "stdout",
     "output_type": "stream",
     "text": [
      "George\n"
     ]
    }
   ],
   "source": [
    "#Code Example\n",
    "\n",
    "student_name = 'George'\n",
    "print(student_name)"
   ]
  },
  {
   "attachments": {},
   "cell_type": "markdown",
   "metadata": {},
   "source": [
    "- When naming variable's we _SHOULD_ only use alpha-numeric characters (letters and numbers) and the underscore character."
   ]
  },
  {
   "cell_type": "code",
   "execution_count": 8,
   "metadata": {},
   "outputs": [
    {
     "name": "stdout",
     "output_type": "stream",
     "text": [
      "Mary\n"
     ]
    }
   ],
   "source": [
    "#Code Example\n",
    "\n",
    "student_1 = 'Mary'\n",
    "print(student_1)"
   ]
  },
  {
   "attachments": {},
   "cell_type": "markdown",
   "metadata": {},
   "source": [
    "- You _SHOULD NOT_ start a variable name with a number, but you _CAN_ start with a letter or an underscore character."
   ]
  },
  {
   "cell_type": "code",
   "execution_count": 9,
   "metadata": {},
   "outputs": [
    {
     "ename": "SyntaxError",
     "evalue": "invalid syntax (Temp/ipykernel_8464/1576765152.py, line 3)",
     "output_type": "error",
     "traceback": [
      "\u001b[1;36m  File \u001b[1;32m\"C:\\Users\\USER\\AppData\\Local\\Temp/ipykernel_8464/1576765152.py\"\u001b[1;36m, line \u001b[1;32m3\u001b[0m\n\u001b[1;33m    student* = 'Caro\u001b[0m\n\u001b[1;37m             ^\u001b[0m\n\u001b[1;31mSyntaxError\u001b[0m\u001b[1;31m:\u001b[0m invalid syntax\n"
     ]
    }
   ],
   "source": [
    "#Code Example\n",
    "\n",
    "student* = 'Caro"
   ]
  },
  {
   "attachments": {},
   "cell_type": "markdown",
   "metadata": {},
   "source": [
    "- Breaking this rule will give you an invalid decimal literal or syntax error"
   ]
  },
  {
   "cell_type": "code",
   "execution_count": 10,
   "metadata": {},
   "outputs": [
    {
     "ename": "SyntaxError",
     "evalue": "invalid decimal literal (Temp/ipykernel_8464/3822651473.py, line 3)",
     "output_type": "error",
     "traceback": [
      "\u001b[1;36m  File \u001b[1;32m\"C:\\Users\\USER\\AppData\\Local\\Temp/ipykernel_8464/3822651473.py\"\u001b[1;36m, line \u001b[1;32m3\u001b[0m\n\u001b[1;33m    1_student = 'Henry'\u001b[0m\n\u001b[1;37m     ^\u001b[0m\n\u001b[1;31mSyntaxError\u001b[0m\u001b[1;31m:\u001b[0m invalid decimal literal\n"
     ]
    }
   ],
   "source": [
    "#Code Example\n",
    "\n",
    "1_student = 'Henry'\n",
    "_student = 'John'\n",
    "_student"
   ]
  },
  {
   "attachments": {},
   "cell_type": "markdown",
   "metadata": {},
   "source": [
    "- A variable name _SHOULD_ start with a letter or the underscore character.\n",
    "- You _SHOULD NOT_ use python keywords and function names as variable names."
   ]
  },
  {
   "cell_type": "code",
   "execution_count": 11,
   "metadata": {},
   "outputs": [
    {
     "ename": "SyntaxError",
     "evalue": "invalid syntax (Temp/ipykernel_8464/1289231500.py, line 1)",
     "output_type": "error",
     "traceback": [
      "\u001b[1;36m  File \u001b[1;32m\"C:\\Users\\USER\\AppData\\Local\\Temp/ipykernel_8464/1289231500.py\"\u001b[1;36m, line \u001b[1;32m1\u001b[0m\n\u001b[1;33m    pass = 'John'\u001b[0m\n\u001b[1;37m         ^\u001b[0m\n\u001b[1;31mSyntaxError\u001b[0m\u001b[1;31m:\u001b[0m invalid syntax\n"
     ]
    }
   ],
   "source": [
    "pass = 'John'"
   ]
  },
  {
   "attachments": {},
   "cell_type": "markdown",
   "metadata": {},
   "source": [
    "- Variable names are case sensitive\n",
    "\n",
    "  > message, Message, MESSAGE and MeSsAge are different"
   ]
  },
  {
   "cell_type": "code",
   "execution_count": 12,
   "metadata": {},
   "outputs": [],
   "source": [
    "#Code Example\n",
    "\n",
    "message = 'Come here'\n",
    "Message = 'Welcome  home'\n",
    "MESSAGE = 'This is the  data armory'\n",
    "MeSSaGe = 'Thank  for watching'"
   ]
  },
  {
   "cell_type": "code",
   "execution_count": 13,
   "metadata": {},
   "outputs": [
    {
     "name": "stdout",
     "output_type": "stream",
     "text": [
      "Come here\n",
      "Welcome  home\n",
      "This is the  data armory\n",
      "Thank  for watching\n"
     ]
    }
   ],
   "source": [
    "print(message)\n",
    "print(Message)\n",
    "print(MESSAGE)\n",
    "print(MeSSaGe)"
   ]
  },
  {
   "attachments": {},
   "cell_type": "markdown",
   "metadata": {},
   "source": [
    "- Ensure that variable names are;\n",
    "  > Short: though they can be long. \n",
    "  \n",
    "  > Descriptive: That is can tell what the variable is used for."
   ]
  },
  {
   "cell_type": "code",
   "execution_count": 14,
   "metadata": {},
   "outputs": [],
   "source": [
    "# code Example\n",
    "\n",
    "weather_df = \"Australia.csv\"\n",
    "data = \"Australia.csv\""
   ]
  },
  {
   "attachments": {},
   "cell_type": "markdown",
   "metadata": {},
   "source": [
    "- Take note that some letters like lowercase l and uppercase letter O can easily be confused with number 1 and 0.\n",
    "\n",
    "- While it is legal to use upper case letters;\n",
    "\n",
    "  > Others think it is a good idea to start variable names with lower case letter.\n",
    "\n",
    "  > Others believe that they better use camel case than separate names with\n",
    "\n",
    "  > Other avoid starting variables names with an underscore, unless when they are writing library code."
   ]
  },
  {
   "attachments": {},
   "cell_type": "markdown",
   "metadata": {},
   "source": [
    "## References and Further Reading\n",
    "\n",
    "- [Python Built in Functions](https://docs.python.org/3/library/functions.)\n",
    "- [Python Key Words](https://www.w3schools.com/python/python_ref_keywords.asp)\n",
    "- [Function and Variable Names](https://peps.python.org/pep-0008/#function-and-variable-names)\n",
    "- [Automate the boring stuff by Al Sweigart](https://www.amazon.com/Automate-Boring-Stuff-Python-Programming/dp/1593275994)\n",
    "- [Python Crash Course By Eric Matthes](https://www.amazon.com/Python-Crash-Course-2nd-Edition/dp/1593279280/ref=sr_1_1?crid=2ANKISKNQPNKH&keywords=Python+Crash+Course+By+Eric+Matthes&qid=1654606797&s=books&sprefix=%2Cstripbooks-intl-ship%2C1078&sr=1-1)\n",
    "- [Python For Everybody By Dr. Charles Russell Severance](https://www.amazon.com/Python-Everybody-Exploring-Data/dp/1530051126/ref=sr_1_1?crid=39LZNMJH3NBCG&keywords=python+for+everybody&qid=1654606844&s=books&sprefix=PYTHON+FOR+EVER%2Cstripbooks-intl-ship%2C613&sr=1-1)\n",
    "- [How Developers Choose Names](https://arxiv.org/pdf/2103.07487.pdf)\n"
   ]
  }
 ],
 "metadata": {
  "interpreter": {
   "hash": "263930470851f494f0ed2879c35b57985588df20f9e529b86e97dd5eb9ddc466"
  },
  "kernelspec": {
   "display_name": "Python 3.9.7 ('base')",
   "language": "python",
   "name": "python3"
  },
  "language_info": {
   "codemirror_mode": {
    "name": "ipython",
    "version": 3
   },
   "file_extension": ".py",
   "mimetype": "text/x-python",
   "name": "python",
   "nbconvert_exporter": "python",
   "pygments_lexer": "ipython3",
   "version": "3.9.7"
  },
  "orig_nbformat": 4
 },
 "nbformat": 4,
 "nbformat_minor": 2
}
