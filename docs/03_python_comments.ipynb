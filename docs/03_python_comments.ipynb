{
 "cells": [
  {
   "attachments": {},
   "cell_type": "markdown",
   "metadata": {},
   "source": [
    "# Python Comments\n"
   ]
  },
  {
   "attachments": {},
   "cell_type": "markdown",
   "metadata": {},
   "source": [
    "### What is a Comment\n",
    "\n",
    "- A comment can be defined as human-readable documentation\" is grammatically correct and does not require any further edits.\n",
    "- To write a comment, start a new line with the # character.\n",
    "- Anything that follows the # for the rest of the line is part of the comment.\n",
    "- Single line comments are typically used before or next to code to provide context or explanations for the code.\n",
    "- A comment should be concise and easily comprehensible.\n"
   ]
  },
  {
   "cell_type": "code",
   "execution_count": 1,
   "metadata": {},
   "outputs": [
    {
     "data": {
      "text/plain": [
       "10"
      ]
     },
     "execution_count": 1,
     "metadata": {},
     "output_type": "execute_result"
    }
   ],
   "source": [
    "students = 10  # number of students at the data armory\n",
    "students"
   ]
  },
  {
   "attachments": {},
   "cell_type": "markdown",
   "metadata": {},
   "source": [
    "- A comment is not an executable code.\n"
   ]
  },
  {
   "cell_type": "code",
   "execution_count": 2,
   "metadata": {},
   "outputs": [
    {
     "name": "stdout",
     "output_type": "stream",
     "text": [
      "The  data armory\n"
     ]
    }
   ],
   "source": [
    "# Comments are not executable - This line will be ignored\n",
    "\n",
    "print(\"The  data armory\")"
   ]
  },
  {
   "cell_type": "code",
   "execution_count": 3,
   "metadata": {},
   "outputs": [
    {
     "data": {
      "text/plain": [
       "'Welcome to the data armory'"
      ]
     },
     "execution_count": 3,
     "metadata": {},
     "output_type": "execute_result"
    }
   ],
   "source": [
    "# Should not be within a string\n",
    "new_students = \"Welcome to the data armory\"\n",
    "new_students"
   ]
  },
  {
   "attachments": {},
   "cell_type": "markdown",
   "metadata": {},
   "source": [
    "- It is important to add notes to your code and within your programs;\n",
    "\n",
    "  > This is helpful for defining the purpose of your code or explaining specific sections of your code, especially when:\n",
    "\n",
    "  1.  Your code is longer and complex.\n",
    "  2.  It is essential to keep in mind the purpose of your code, such as the reason for using a particular function, especially when you experience memory lapses.\n",
    "  3.  Meaningful comments will help others understand your code.\n",
    "  4.  As a professional programmer you need meaningful code considering that you will collaborate with others.\n",
    "  5.  It is easy to delete comments than to go back to comment your code.\n",
    "\n",
    "    <br />\n",
    "\n",
    "- Commenting out is when you put the # when trying to find out what is wrong in a program.\n"
   ]
  },
  {
   "cell_type": "code",
   "execution_count": 4,
   "metadata": {},
   "outputs": [
    {
     "data": {
      "text/plain": [
       "85"
      ]
     },
     "execution_count": 4,
     "metadata": {},
     "output_type": "execute_result"
    }
   ],
   "source": [
    "x = 10\n",
    "y = 50\n",
    "z = 25\n",
    "\n",
    "total = x + y + z\n",
    "total"
   ]
  },
  {
   "cell_type": "code",
   "execution_count": 5,
   "metadata": {},
   "outputs": [
    {
     "data": {
      "text/plain": [
       "40"
      ]
     },
     "execution_count": 5,
     "metadata": {},
     "output_type": "execute_result"
    }
   ],
   "source": [
    "# Getting the sum of variables\n",
    "# Use a different variable to print the results\n",
    "\n",
    "y = 20\n",
    "x = 10\n",
    "w = 10\n",
    "\n",
    "total = y + x + w\n",
    "total"
   ]
  },
  {
   "attachments": {},
   "cell_type": "markdown",
   "metadata": {},
   "source": [
    "- Blank lines after the comment are also ignored.\n"
   ]
  },
  {
   "cell_type": "code",
   "execution_count": 6,
   "metadata": {},
   "outputs": [
    {
     "data": {
      "text/plain": [
       "30"
      ]
     },
     "execution_count": 6,
     "metadata": {},
     "output_type": "execute_result"
    }
   ],
   "source": [
    "# Getting the sum of values\n",
    "\n",
    "y = 20\n",
    "x = 10\n",
    "\n",
    "total = y + x\n",
    "total\n"
   ]
  },
  {
   "attachments": {},
   "cell_type": "markdown",
   "metadata": {},
   "source": [
    "- The various methods for writing a comment are:\n",
    "\n",
    "        * Placing it before the line of code\n",
    "        * Writing it next to the line of code\n",
    "        * Using a comment block (multiline comment)\n"
   ]
  },
  {
   "attachments": {},
   "cell_type": "markdown",
   "metadata": {},
   "source": [
    "## Multiline Comments\n"
   ]
  },
  {
   "cell_type": "code",
   "execution_count": 7,
   "metadata": {},
   "outputs": [
    {
     "data": {
      "text/plain": [
       "' Welcome to the\\ndata armory\\nfor python and \\ndata science tutorials'"
      ]
     },
     "execution_count": 7,
     "metadata": {},
     "output_type": "execute_result"
    }
   ],
   "source": [
    "# Multiline Strings for commenting\n",
    "\n",
    "\n",
    "welcome_message = \"\"\" Welcome to the\n",
    "data armory\n",
    "for python and \n",
    "data science tutorials\"\"\"\n",
    "\n",
    "# Multiline Strings for commenting\n",
    "\n",
    "\n",
    "welcome_message = \"\"\" Welcome to the\n",
    "data armory\n",
    "for python and \n",
    "data science tutorials\"\"\"\n",
    "\n",
    "# Multiline Strings for commenting\n",
    "\n",
    "\n",
    "welcome_message = \"\"\" Welcome to the\n",
    "data armory\n",
    "for python and \n",
    "data science tutorials\"\"\"\n",
    "\n",
    "welcome_message"
   ]
  },
  {
   "attachments": {},
   "cell_type": "markdown",
   "metadata": {},
   "source": [
    "- Remember to place your comments either above or below the triple-quoted text, multiline comments, or block string, which are valid Python code.\n"
   ]
  },
  {
   "cell_type": "code",
   "execution_count": 8,
   "metadata": {},
   "outputs": [
    {
     "data": {
      "text/plain": [
       "' In the university, freshman year  #refers to a first year student\\n\\n sophomore  refers  to a second year students\\n\\n Welcome to the data armory \\n \\n '"
      ]
     },
     "execution_count": 8,
     "metadata": {},
     "output_type": "execute_result"
    }
   ],
   "source": [
    "\"\"\" In the university, freshman year  #refers to a first year student\n",
    "\n",
    " sophomore  refers  to a second year students\n",
    "\n",
    " Welcome to the data armory \n",
    " \n",
    " \"\"\"\n",
    "# Multiline comment"
   ]
  },
  {
   "attachments": {},
   "cell_type": "markdown",
   "metadata": {},
   "source": [
    "## Reference and Further Reading\n",
    "\n",
    "- Automate the boring stuff by Al Sweigart-https://www.amazon.com/Automate-Boring-Stuff-Python-Programming/dp/1593275994\n",
    "- Python Crash Course By Eric Matthes - https://www.amazon.com/Python-Crash-Course-2nd-Edition/dp/1593279280/ref=sr_1_1?crid=2ANKISKNQPNKH&keywords=Python+Crash+Course+By+Eric+Matthes&qid=1654606797&s=books&sprefix=%2Cstripbooks-intl-ship%2C1078&sr=1-1\n",
    "- Ravikiran AS \"Comments in Python: Why are They Important And How to Use Them\" https://www.simplilearn.com/tutorials/python-tutorial/comments-in-python#:~:text=Comments%20in%20Python%20are%20identified,a%20multi%2Dline%20comment%20block.\n",
    "- Ihechikara Vincent Abba \"Python Comment Block – How to Comment Out Code in Python\" https://www.freecodecamp.org/news/python-comment-block-how-to-comment-out-code-in-python/\n"
   ]
  }
 ],
 "metadata": {
  "kernelspec": {
   "display_name": "Python 3.9.7 ('Dbases')",
   "language": "python",
   "name": "python3"
  },
  "language_info": {
   "codemirror_mode": {
    "name": "ipython",
    "version": 3
   },
   "file_extension": ".py",
   "mimetype": "text/x-python",
   "name": "python",
   "nbconvert_exporter": "python",
   "pygments_lexer": "ipython3",
   "version": "3.9.7"
  },
  "orig_nbformat": 4,
  "vscode": {
   "interpreter": {
    "hash": "b17775c2dea02fc1f2f42bc92c63d52f2f4aa32e1315bff04d96806d0e68f237"
   }
  }
 },
 "nbformat": 4,
 "nbformat_minor": 2
}
